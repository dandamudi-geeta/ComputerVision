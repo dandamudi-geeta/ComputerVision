{
  "cells": [
    {
      "cell_type": "markdown",
      "source": [
        "**2ND QUESTION**"
      ],
      "metadata": {
        "id": "DpNK-gbnqtR8"
      }
    },
    {
      "cell_type": "code",
      "source": [
        "import cv2\n",
        "from scipy import signal\n",
        "from scipy import misc\n",
        "import numpy as np\n",
        "\n",
        "# Load your input image\n",
        "input_image = cv2.imread('/content/Gold Fish.jpg', 0)  # 0 indicates grayscale mode\n",
        "\n",
        "# Define the kernels\n",
        "kernels = {\n",
        "    'identity': np.array([[0, 0, 0], [0, 1, 0], [0, 0, 0]]),\n",
        "    'edge_detection': np.array([[1, 0, -1], [0, 0, 0], [-1, 0, 1]]),\n",
        "    'sharpen': np.array([[0, -1, 0], [-1, 5, -1], [0, -1, 0]]),\n",
        "    'box_blur': np.array([[1, 1, 1], [1, 1, 1], [1, 1, 1]]) / 9.0,\n",
        "    'gaussian_blur': np.array([[1, 2, 1], [2, 4, 2], [1, 2, 1]]) / 16.0\n",
        "}\n",
        "\n",
        "# Apply filter2D for each kernel\n",
        "for kernel_name, kernel in kernels.items():\n",
        "    filtered_image = cv2.filter2D(input_image, -1, kernel)\n",
        "    cv2.imwrite(kernel_name + '/content/Gold Fish.jpg', filtered_image)\n",
        "\n",
        "\n",
        "\n",
        "# Apply convolve function in SciPy with modes\n",
        "for mode in ['valid', 'same', 'full']:\n",
        "    convolved_image = signal.convolve2d(input_image, kernels['edge_detection'], mode=mode, boundary='wrap')\n",
        "    plt.imsave('convolved_image_' + mode + '.jpg', convolved_image, cmap='gray')\n"
      ],
      "metadata": {
        "id": "HJ98TXkktNpm"
      },
      "execution_count": null,
      "outputs": []
    },
    {
      "cell_type": "markdown",
      "source": [
        "*  The signal.convolve2d function from SciPy is applied with different modes ('valid', 'same', 'full').\n",
        "*   The plt.imsave function from the matplotlib library is used to save the convolved images.\n",
        "\n",
        "*   Each kernel is applied to the input image using the filter2D function in OpenCV, and the results are saved as image files using cv2.imwrite.\n",
        "*   The convolve2d function from SciPy is applied with acceptable modes ('valid', 'same', 'full'), and the results are saved using misc.imsave.\n",
        "\n",
        "By utilizing matplotlib for saving the images, you can avoid issues related to deprecated functions.\n"
      ],
      "metadata": {
        "id": "9GLDGIXzurkJ"
      }
    },
    {
      "cell_type": "markdown",
      "source": [
        "\n",
        "\n",
        "*  We import the necessary libraries such as cv2 for OpenCV, and signal and misc from SciPy, as well as numpy for array manipulation.\n",
        "\n",
        "*   The input image is loaded in grayscale mode using cv2.imread.\n",
        "\n",
        "* We define a set of kernels for different image processing operations, including identity, edge detection, sharpen, box blur, and Gaussian blur.\n",
        "\n",
        "*   The filter2D function from OpenCV is applied for each kernel, and the results are saved as image files using cv2.imwrite.\n",
        "\n",
        "*   The convolve2d function from SciPy is applied with different modes for the 'edge_detection' kernel, and the results are saved using misc.imsave.\n",
        "\n",
        "*   This code provides a practical example of how to apply the filter2D and convolve functions with various kernels and modes for image processing."
      ],
      "metadata": {
        "id": "BQNyEpbfvOXI"
      }
    }
  ],
  "metadata": {
    "colab": {
      "provenance": []
    },
    "kernelspec": {
      "display_name": "Python 3",
      "name": "python3"
    },
    "language_info": {
      "name": "python"
    }
  },
  "nbformat": 4,
  "nbformat_minor": 0
}